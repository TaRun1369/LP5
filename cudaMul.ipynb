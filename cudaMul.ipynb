{
  "nbformat": 4,
  "nbformat_minor": 0,
  "metadata": {
    "colab": {
      "provenance": [],
      "gpuType": "T4"
    },
    "kernelspec": {
      "name": "python3",
      "display_name": "Python 3"
    },
    "language_info": {
      "name": "python"
    },
    "accelerator": "GPU"
  },
  "cells": [
    {
      "cell_type": "code",
      "source": [
        "code=\"\"\"\n",
        "#include <iostream>\n",
        "#include <bits/stdc++.h>\n",
        "using namespace std;\n",
        "__global__ void mulGPU(int *a,int *b,int *c,int size){\n",
        "  int row=blockIdx.y*blockDim.y+threadIdx.y;\n",
        "  int col=blockIdx.x*blockDim.x+threadIdx.x;\n",
        "  if(row<size &&col<size){\n",
        "    int sum=0;\n",
        "    for(int k=0;k<size;k++){\n",
        "      sum+=a[row*size+k]*b[k*size+col];\n",
        "    }\n",
        "    c[row*size+col]=sum;\n",
        "  }\n",
        "}\n",
        "void printMatrix(vector<int>a,int size){\n",
        "  for(int i=0;i<size;i++){\n",
        "    for(int j=0;j<size;j++){\n",
        "      cout<<a[i*size+j]<<\" \";\n",
        "    }\n",
        "    cout<<endl;\n",
        "  }\n",
        "  cout<<endl;\n",
        "}\n",
        "int main(){\n",
        "  int size=3;\n",
        "  vector<int>a={\n",
        "    1,2,3,\n",
        "    4,5,6,\n",
        "    7,8,9\n",
        "  };\n",
        "  vector<int>b={\n",
        "    9,8,7,\n",
        "    6,5,4,\n",
        "    3,2,1\n",
        "  };\n",
        "  vector<int>c(size*size);\n",
        "  printMatrix(a,3);\n",
        "  printMatrix(b,3);\n",
        "\n",
        "  int *da, *db,*dc;\n",
        "  int totalbytes=size*size*sizeof(int);\n",
        "  cudaMalloc(&da,totalbytes);\n",
        "    cudaMalloc(&db,totalbytes);\n",
        "  cudaMalloc(&dc,totalbytes);\n",
        "\n",
        "  cudaMemcpy(da,a.data(),totalbytes,cudaMemcpyHostToDevice);\n",
        "  cudaMemcpy(db,b.data(),totalbytes,cudaMemcpyHostToDevice);\n",
        "\n",
        "  dim3 threadsperblock(16,16);\n",
        "  dim3 blockspergrid((size+15)/16,(size+15)/16);\n",
        "mulGPU<<<blockspergrid,threadsperblock>>>(da,db,dc,size);\n",
        "cudaGetLastError();\n",
        "cudaDeviceSynchronize();\n",
        "cudaMemcpy(c.data(),dc,totalbytes,cudaMemcpyDeviceToHost);\n",
        "printMatrix(c,3);\n",
        "cudaFree(da);\n",
        "cudaFree(db);\n",
        "cudaFree(dc);\n",
        "  return 0;\n",
        "\n",
        "}\n",
        "\"\"\"\n",
        "with open(\"mul.cu\",\"w\") as f:\n",
        "  f.write(code)\n",
        "!nvcc -arch=sm_75 mul.cu -o mul\n",
        "!./mul"
      ],
      "metadata": {
        "colab": {
          "base_uri": "https://localhost:8080/"
        },
        "id": "z-AuShzQw5SC",
        "outputId": "be7a6d0a-5658-49c5-9806-1ac54e4721c2"
      },
      "execution_count": 1,
      "outputs": [
        {
          "output_type": "stream",
          "name": "stdout",
          "text": [
            "1 2 3 \n",
            "4 5 6 \n",
            "7 8 9 \n",
            "\n",
            "9 8 7 \n",
            "6 5 4 \n",
            "3 2 1 \n",
            "\n",
            "30 24 18 \n",
            "84 69 54 \n",
            "138 114 90 \n",
            "\n"
          ]
        }
      ]
    }
  ]
}