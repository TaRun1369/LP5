{
  "nbformat": 4,
  "nbformat_minor": 0,
  "metadata": {
    "colab": {
      "provenance": []
    },
    "kernelspec": {
      "name": "python3",
      "display_name": "Python 3"
    },
    "language_info": {
      "name": "python"
    }
  },
  "cells": [
    {
      "cell_type": "code",
      "execution_count": null,
      "metadata": {
        "colab": {
          "base_uri": "https://localhost:8080/"
        },
        "id": "xbuPKGqxxhf8",
        "outputId": "d6001027-9088-410e-9bff-4cd548931789"
      },
      "outputs": [
        {
          "output_type": "stream",
          "name": "stdout",
          "text": [
            "5\n",
            "1\n",
            "2\n",
            "3\n",
            "4\n",
            "5\n",
            "1\n",
            "2\n",
            "3\n",
            "4\n",
            "5\n",
            "1 2 3 4 5 \n",
            "1 2 3 4 5 \n",
            "2 4 6 8 10 \n",
            "\n",
            "array a: 1 2 3 4 5 \n",
            "array b: 1 2 3 4 5 \n",
            "array c: 2 4 6 8 10 \n"
          ]
        }
      ],
      "source": [
        "code = \"\"\"\n",
        "\n",
        "#include <bits/stdc++.h>\n",
        "using namespace std;\n",
        "\n",
        "void add(vector<int> &a,vector<int> &b,vector<int> &c,int size){\n",
        "  for(int i = 0;i<size;i++){\n",
        "    c[i] = a[i] + b[i];\n",
        "  }\n",
        "\n",
        "}\n",
        "__global__ void addgpu(int *a,int *b,int *c,int size){\n",
        "  int tid = blockIdx.x*blockDim.x + threadIdx.x;\n",
        "  if(tid < size){\n",
        "    c[tid] = a[tid] + b[tid];\n",
        "  }\n",
        "}\n",
        "void print(vector<int> &a){\n",
        "  for(auto it : a){\n",
        "    cout<<it<<\" \";\n",
        "  }\n",
        "  cout<<endl;\n",
        "}\n",
        "\n",
        "int main(){\n",
        "\n",
        "  int n;\n",
        "  cin>>n;\n",
        "  vector<int> a(n),b(n),c(n);\n",
        "  for(int i = 0;i<n;i++){\n",
        "    cin>>a[i];\n",
        "  }\n",
        "  for(int i = 0;i<n;i++){\n",
        "    cin>>b[i];\n",
        "  }\n",
        "  add(a,b,c,n);\n",
        "  print(a);\n",
        "  print(b);\n",
        "  print(c);\n",
        "\n",
        "  int gpusize = n*sizeof(int);\n",
        "  int *da,*db,*dc;\n",
        "  //memory allocate\n",
        "  cudaMalloc(&da,gpusize);\n",
        "  cudaMalloc(&db,gpusize);\n",
        "  cudaMalloc(&dc,gpusize);\n",
        "\n",
        "  //copy data\n",
        "  cudaMemcpy(da,a.data(),gpusize,cudaMemcpyHostToDevice);\n",
        "  cudaMemcpy(db,b.data(),gpusize,cudaMemcpyHostToDevice);\n",
        "\n",
        "  int Threadperblock = 256;\n",
        "  int blockpergrid = (Threadperblock + n - 1)/Threadperblock;\n",
        "\n",
        "  addgpu<<<blockpergrid,Threadperblock>>>(da,db,dc,n);\n",
        "  cudaGetLastError();\n",
        "  cudaDeviceSynchronize();\n",
        "  cout<<endl;\n",
        "  cudaMemcpy(c.data(),dc,gpusize,cudaMemcpyDeviceToHost);\n",
        "  cout<<\"array a: \";\n",
        "  print(a);\n",
        "  cout<<\"array b: \";\n",
        "  print(b);\n",
        "  cout<<\"array c: \";\n",
        "  print(c);\n",
        "  cudaFree(da);\n",
        "  cudaFree(db);\n",
        "  cudaFree(dc);\n",
        "  return 0;\n",
        "\n",
        "\n",
        "\n",
        "}\n",
        "\"\"\"\n",
        "\n",
        "with open(\"add.cu\",\"w\") as f:\n",
        "  f.write(code)\n",
        "!nvcc -arch=sm_75 add.cu -o add\n",
        "!./add"
      ]
    }
  ]
}